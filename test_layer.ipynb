{
 "cells": [
  {
   "cell_type": "markdown",
   "metadata": {},
   "source": [
    "### Test of generating alternating single qubit and two qubit layers"
   ]
  },
  {
   "cell_type": "code",
   "execution_count": 2,
   "metadata": {},
   "outputs": [],
   "source": [
    "import qiskit\n",
    "from qiskit import QuantumCircuit\n",
    "import numpy as np\n",
    "from utils.layers import alternating_sq_2q_layers"
   ]
  },
  {
   "cell_type": "code",
   "execution_count": 54,
   "metadata": {},
   "outputs": [
    {
     "data": {
      "image/png": "[encoded data removed]",
      "text/plain": [
       "<Figure size 568.197x264.88 with 1 Axes>"
      ]
     },
     "execution_count": 54,
     "metadata": {},
     "output_type": "execute_result"
    }
   ],
   "source": [
    "connectivity = [[0,1], [1,2], [2,3],[3,0], [1,3], [0,2]]\n",
    "circ = alternating_sq_2q_layers(4,1,'RZX', connectivity)\n",
    "circ.draw('mpl')\n",
    "# circ.draw('mpl')"
   ]
  },
  {
   "cell_type": "code",
   "execution_count": 4,
   "metadata": {},
   "outputs": [
    {
     "name": "stdout",
     "output_type": "stream",
     "text": [
      "OPENQASM 2.0;\n",
      "include \"qelib1.inc\";\n",
      "qreg q[4];\n",
      "rx(1.0) q[0];\n",
      "rz(1.0) q[0];\n",
      "rx(1.0) q[1];\n",
      "rz(1.0) q[1];\n",
      "rx(1.0) q[2];\n",
      "rz(1.0) q[2];\n",
      "rx(1.0) q[3];\n",
      "rz(1.0) q[3];\n",
      "rxx(1.0) q[0],q[1];\n",
      "rxx(1.0) q[1],q[2];\n",
      "rxx(1.0) q[2],q[3];\n",
      "rxx(1.0) q[3],q[0];\n",
      "rxx(1.0) q[1],q[3];\n",
      "rxx(1.0) q[0],q[2];\n"
     ]
    }
   ],
   "source": [
    "# qasm convert\n",
    "print(qiskit.qasm2.dumps(circ.assign_parameters(np.ones(14))))"
   ]
  },
  {
   "cell_type": "code",
   "execution_count": 56,
   "metadata": {},
   "outputs": [],
   "source": [
    "from qiskit_algorithms.optimizers import L_BFGS_B, COBYLA\n",
    "from qiskit_aer import StatevectorSimulator\n",
    "from qiskit.quantum_info import Statevector\n",
    "import qiskit.quantum_info as qi\n",
    "\n",
    "intermediate_cost = []\n",
    "intermediate_params = []\n",
    "\n",
    "def cost(params, target):\n",
    "    '''\n",
    "    target: dict\n",
    "            count_dictionary obtained from the probe circuit\n",
    "    params: \n",
    "    '''\n",
    "    connectivity = [[0,1], [1,2], [2,3],[3,0], [1,3], [0,2]]\n",
    "    circ = alternating_sq_2q_layers(4,1,'RXX', connectivity, measurement=False).assign_parameters(params)\n",
    "    result_dict = qi.Statevector.from_instruction(circ).probabilities_dict()\n",
    "    cost = 0\n",
    "    for (key1, value1), (key2, value2) in zip(target.items(), result_dict.items()):\n",
    "        cost += (value1-value2)**2 \n",
    "    \n",
    "    intermediate_cost.append(cost)\n",
    "    intermediate_params.append(params)\n",
    "    return cost\n",
    "\n",
    "def callback_func(params, target):\n",
    "    cost_value = cost(params, target)  # Calculate the cost at the current iteration\n",
    "    intermediate_cost.append(cost_value)\n",
    "    intermediate_params.append(params)"
   ]
  },
  {
   "cell_type": "code",
   "execution_count": 57,
   "metadata": {},
   "outputs": [
    {
     "data": {
      "text/plain": [
       "{'0000': 0.12617565065018493,\n",
       " '0001': 0.005809569833027938,\n",
       " '0010': 0.0058095698330279345,\n",
       " '0011': 0.021492938817427427,\n",
       " '0100': 0.005809569833027941,\n",
       " '0101': 0.021492938817427427,\n",
       " '0110': 0.02149293881742741,\n",
       " '0111': 0.10853778902716256,\n",
       " '1000': 0.005809569833027945,\n",
       " '1001': 0.021492938817427427,\n",
       " '1010': 0.021492938817427445,\n",
       " '1011': 0.10853778902716252,\n",
       " '1100': 0.021492938817427445,\n",
       " '1101': 0.10853778902716256,\n",
       " '1110': 0.10853778902716252,\n",
       " '1111': 0.2874772810044898}"
      ]
     },
     "execution_count": 57,
     "metadata": {},
     "output_type": "execute_result"
    }
   ],
   "source": [
    "import torch\n",
    "import torch.optim as optim\n",
    "import qiskit.quantum_info as qi\n",
    "\n",
    "params = np.ones(14)\n",
    "circ = alternating_sq_2q_layers(4,1,'RXX', connectivity, measurement=False).assign_parameters(params)\n",
    "target = qi.Statevector.from_instruction(circ).probabilities_dict()\n",
    "target"
   ]
  },
  {
   "cell_type": "code",
   "execution_count": 58,
   "metadata": {},
   "outputs": [
    {
     "data": {
      "text/plain": [
       "0.896240670072787"
      ]
     },
     "execution_count": 58,
     "metadata": {},
     "output_type": "execute_result"
    }
   ],
   "source": [
    "from scipy.optimize import minimize\n",
    "parameters = [np.random.random() for _ in range(14)]\n",
    "out = minimize(cost, x0=parameters, args = target ,method=\"L-BFGS-B\", options={'maxiter':100})\n",
    "cost(out.jac,target)"
   ]
  },
  {
   "cell_type": "code",
   "execution_count": 59,
   "metadata": {},
   "outputs": [
    {
     "data": {
      "text/plain": [
       "array([-1.41546651e-06, -1.78174965e-06,  1.05303292e-06, -8.84533349e-06,\n",
       "       -5.14884992e-06, -4.96902815e-06,  1.57111053e-06, -1.70004763e-07,\n",
       "        1.20040665e-06, -1.43475355e-06, -4.68359519e-06, -2.80636315e-06,\n",
       "       -4.76958325e-06,  3.84609827e-06])"
      ]
     },
     "execution_count": 59,
     "metadata": {},
     "output_type": "execute_result"
    }
   ],
   "source": [
    "out.jac"
   ]
  },
  {
   "cell_type": "code",
   "execution_count": null,
   "metadata": {},
   "outputs": [],
   "source": []
  },
  {
   "cell_type": "code",
   "execution_count": 60,
   "metadata": {},
   "outputs": [
    {
     "data": {
      "text/plain": [
       "5.159995737573821e-07"
      ]
     },
     "execution_count": 60,
     "metadata": {},
     "output_type": "execute_result"
    }
   ],
   "source": [
    "cost(intermediate_params[np.argmin(intermediate_cost)],target)"
   ]
  },
  {
   "cell_type": "code",
   "execution_count": 61,
   "metadata": {},
   "outputs": [
    {
     "data": {
      "text/plain": [
       "{'0000': 0.12635994386531418,\n",
       " '0001': 0.005929914043627379,\n",
       " '0010': 0.0057578524646348635,\n",
       " '0011': 0.0214136207065688,\n",
       " '0100': 0.005829182020298167,\n",
       " '0101': 0.021149335928561414,\n",
       " '0110': 0.021551645412526944,\n",
       " '0111': 0.10870723336959039,\n",
       " '1000': 0.005829579019813608,\n",
       " '1001': 0.02143430912479111,\n",
       " '1010': 0.02172792844147182,\n",
       " '1011': 0.10855764183143093,\n",
       " '1100': 0.021563892945053707,\n",
       " '1101': 0.10868848570074209,\n",
       " '1110': 0.10848954930978753,\n",
       " '1111': 0.28700988581578674}"
      ]
     },
     "execution_count": 61,
     "metadata": {},
     "output_type": "execute_result"
    }
   ],
   "source": [
    "check = alternating_sq_2q_layers(4,1,'RXX', connectivity, measurement=False).assign_parameters(intermediate_params[np.argmin(intermediate_cost)])\n",
    "check_result = qi.Statevector.from_instruction(check).probabilities_dict()\n",
    "check_result"
   ]
  },
  {
   "cell_type": "code",
   "execution_count": 62,
   "metadata": {},
   "outputs": [
    {
     "data": {
      "text/plain": [
       "[<matplotlib.lines.Line2D at 0x2774b649ca0>]"
      ]
     },
     "execution_count": 62,
     "metadata": {},
     "output_type": "execute_result"
    },
    {
     "data": {
      "image/png": "[encoded data removed]",
      "text/plain": [
       "<Figure size 432x288 with 1 Axes>"
      ]
     },
     "metadata": {
      "needs_background": "light"
     },
     "output_type": "display_data"
    }
   ],
   "source": [
    "import matplotlib.pyplot as plt\n",
    "plt.plot(intermediate_cost)"
   ]
  }
 ],
 "metadata": {
  "kernelspec": {
   "display_name": "Python 3",
   "language": "python",
   "name": "python3"
  },
  "language_info": {
   "codemirror_mode": {
    "name": "ipython",
    "version": 3
   },
   "file_extension": ".py",
   "mimetype": "text/x-python",
   "name": "python",
   "nbconvert_exporter": "python",
   "pygments_lexer": "ipython3",
   "version": "3.8.0"
  }
 },
 "nbformat": 4,
 "nbformat_minor": 2
}
