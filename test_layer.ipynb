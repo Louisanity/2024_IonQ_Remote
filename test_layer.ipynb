{
 "cells": [
  {
   "cell_type": "markdown",
   "metadata": {},
   "source": [
    "### Test of generating alternating single qubit and two qubit layers"
   ]
  },
  {
   "cell_type": "code",
   "execution_count": 3,
   "metadata": {},
   "outputs": [],
   "source": [
    "import qiskit\n",
    "from qiskit import QuantumCircuit\n",
    "import numpy as np\n",
    "from utils.layers import alternating_sq_2q_layers"
   ]
  },
  {
   "cell_type": "code",
   "execution_count": 13,
   "metadata": {},
   "outputs": [
    {
     "name": "stderr",
     "output_type": "stream",
     "text": [
      "c:\\Users\\c5517\\python\\lib\\site-packages\\qiskit\\visualization\\circuit\\matplotlib.py:266: FutureWarning: The default matplotlib drawer scheme will be changed to \"iqp\" in a following release. To silence this warning, specify the current default explicitly as style=\"clifford\", or the new default as style=\"iqp\".\n",
      "  self._style, def_font_ratio = load_style(self._style)\n"
     ]
    },
    {
     "data": {
      "image/png": "[encoded data removed]",
      "text/plain": [
       "<Figure size 748.797x204.68 with 1 Axes>"
      ]
     },
     "execution_count": 13,
     "metadata": {},
     "output_type": "execute_result"
    }
   ],
   "source": [
    "connectivity = [[0,1], [1,2], [2,0]]\n",
    "circ = alternating_sq_2q_layers(3,2,'RXX', connectivity)\n",
    "circ.draw('mpl')"
   ]
  },
  {
   "cell_type": "code",
   "execution_count": 12,
   "metadata": {},
   "outputs": [
    {
     "name": "stdout",
     "output_type": "stream",
     "text": [
      "OPENQASM 2.0;\n",
      "include \"qelib1.inc\";\n",
      "qreg q[3];\n",
      "rx(1.0) q[0];\n",
      "rz(1.0) q[0];\n",
      "rx(1.0) q[1];\n",
      "rz(1.0) q[1];\n",
      "rx(1.0) q[2];\n",
      "rz(1.0) q[2];\n",
      "rxx(1.0) q[0],q[1];\n",
      "rxx(1.0) q[1],q[2];\n",
      "rxx(1.0) q[2],q[0];\n",
      "rz(1.0) q[0];\n",
      "rx(1.0) q[0];\n",
      "rz(1.0) q[0];\n",
      "rz(1.0) q[1];\n",
      "rx(1.0) q[1];\n",
      "rz(1.0) q[1];\n",
      "rz(1.0) q[2];\n",
      "rx(1.0) q[2];\n",
      "rz(1.0) q[2];\n",
      "rxx(1.0) q[0],q[1];\n",
      "rxx(1.0) q[1],q[2];\n",
      "rxx(1.0) q[2],q[0];\n"
     ]
    },
    {
     "name": "stderr",
     "output_type": "stream",
     "text": [
      "C:\\Users\\c5517\\AppData\\Local\\Temp\\ipykernel_66640\\2418064179.py:2: DeprecationWarning: The method ``qiskit.circuit.quantumcircuit.QuantumCircuit.bind_parameters()`` is deprecated as of qiskit 0.45.0. It will be removed no earlier than 3 months after the release date. Use assign_parameters() instead\n",
      "  print(qiskit.qasm2.dumps(circ.bind_parameters(np.ones(21))))\n"
     ]
    }
   ],
   "source": [
    "# qasm convert\n",
    "print(qiskit.qasm2.dumps(circ.bind_parameters(np.ones(21))))"
   ]
  }
 ],
 "metadata": {
  "kernelspec": {
   "display_name": "Python 3",
   "language": "python",
   "name": "python3"
  },
  "language_info": {
   "codemirror_mode": {
    "name": "ipython",
    "version": 3
   },
   "file_extension": ".py",
   "mimetype": "text/x-python",
   "name": "python",
   "nbconvert_exporter": "python",
   "pygments_lexer": "ipython3",
   "version": "3.8.0"
  }
 },
 "nbformat": 4,
 "nbformat_minor": 2
}
